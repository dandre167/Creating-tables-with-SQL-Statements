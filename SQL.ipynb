{
  "nbformat": 4,
  "nbformat_minor": 0,
  "metadata": {
    "colab": {
      "provenance": [],
      "collapsed_sections": [
        "Pt_HJ7HI7nwh"
      ]
    },
    "kernelspec": {
      "name": "python3",
      "display_name": "Python 3"
    },
    "language_info": {
      "name": "python"
    }
  },
  "cells": [
    {
      "cell_type": "code",
      "source": [
        "pip install pandas openpyxl\n"
      ],
      "metadata": {
        "colab": {
          "base_uri": "https://localhost:8080/"
        },
        "id": "TorVgF59GzwG",
        "outputId": "b8d010cd-f50b-460c-b89c-fb03267fa5dd",
        "collapsed": true
      },
      "execution_count": null,
      "outputs": [
        {
          "output_type": "stream",
          "name": "stdout",
          "text": [
            "Requirement already satisfied: pandas in /usr/local/lib/python3.10/dist-packages (2.0.3)\n",
            "Requirement already satisfied: openpyxl in /usr/local/lib/python3.10/dist-packages (3.1.5)\n",
            "Requirement already satisfied: python-dateutil>=2.8.2 in /usr/local/lib/python3.10/dist-packages (from pandas) (2.8.2)\n",
            "Requirement already satisfied: pytz>=2020.1 in /usr/local/lib/python3.10/dist-packages (from pandas) (2023.4)\n",
            "Requirement already satisfied: tzdata>=2022.1 in /usr/local/lib/python3.10/dist-packages (from pandas) (2024.1)\n",
            "Requirement already satisfied: numpy>=1.21.0 in /usr/local/lib/python3.10/dist-packages (from pandas) (1.25.2)\n",
            "Requirement already satisfied: et-xmlfile in /usr/local/lib/python3.10/dist-packages (from openpyxl) (1.1.0)\n",
            "Requirement already satisfied: six>=1.5 in /usr/local/lib/python3.10/dist-packages (from python-dateutil>=2.8.2->pandas) (1.16.0)\n"
          ]
        }
      ]
    },
    {
      "cell_type": "code",
      "source": [
        "import pandas as pd\n",
        "import sqlite3\n",
        "from tabulate import tabulate"
      ],
      "metadata": {
        "id": "fIJAbQ9JLFAJ"
      },
      "execution_count": null,
      "outputs": []
    },
    {
      "cell_type": "markdown",
      "source": [
        "## importing the xlsx file and turning it into a DB"
      ],
      "metadata": {
        "id": "Pt_HJ7HI7nwh"
      }
    },
    {
      "cell_type": "code",
      "source": [
        "#putting file into data frame\n",
        "TransactionDF = pd.read_excel('/content/transaction_data.xlsx')\n",
        "\n",
        "#database path\n",
        "db_path = '/content/transaction_data.db'\n",
        "conn= sqlite3.connect(db_path)"
      ],
      "metadata": {
        "id": "H2qBxONBlQOs"
      },
      "execution_count": null,
      "outputs": []
    },
    {
      "cell_type": "code",
      "source": [
        "#transferring the DF to the DB\n",
        "table_name = 'Transactions'\n",
        "TransactionDF.to_sql('Transactions', conn, if_exists='replace', index=False)\n",
        "\n",
        "\n",
        "#create a cursor object\n",
        "cursor = conn.cursor()\n",
        "\n",
        "#execute the query\n",
        "cursor.execute(\"SELECT * FROM Transactions\")\n",
        "\n",
        "#fetch the results\n",
        "rows = cursor.fetchall()\n",
        "columns = [description[0] for description in cursor.description]\n",
        "print(tabulate(rows[:10], headers=columns, tablefmt=\"psql\"))\n",
        "\n",
        "\n"
      ],
      "metadata": {
        "colab": {
          "base_uri": "https://localhost:8080/"
        },
        "id": "-tvfNDSBn9hy",
        "outputId": "be0cc4f3-b313-44d0-cd73-052a5c596d68",
        "collapsed": true
      },
      "execution_count": null,
      "outputs": [
        {
          "output_type": "stream",
          "name": "stdout",
          "text": [
            "+---------------+---------------------+---------------+----------+------------------+-------------+------------+-----------------+---------------+---------------------+-----------+------------------+----------------------+----------------------+--------------+-----------+\n",
            "|   Transaction | Purchase Date       |   Customer ID | Gender   | Marital Status   | Homeowner   |   Children | Annual Income   | City          | State or Province   | Country   | Product Family   | Product Department   | Product Category     |   Units Sold |   Revenue |\n",
            "|---------------+---------------------+---------------+----------+------------------+-------------+------------+-----------------+---------------+---------------------+-----------+------------------+----------------------+----------------------+--------------+-----------|\n",
            "|             1 | 2014-12-18 00:00:00 |          7223 | F        | S                | Y           |          2 | $30K - $50K     | Los Angeles   | CA                  | USA       | Food             | Snack Foods          | Snack Foods          |            5 |     27.38 |\n",
            "|             2 | 2014-12-20 00:00:00 |          7841 | M        | M                | Y           |          5 | $70K - $90K     | Los Angeles   | CA                  | USA       | Food             | Produce              | Vegetables           |            5 |     14.9  |\n",
            "|             3 | 2014-12-21 00:00:00 |          8374 | F        | M                | N           |          2 | $50K - $70K     | Bremerton     | WA                  | USA       | Food             | Snack Foods          | Snack Foods          |            3 |      5.52 |\n",
            "|             4 | 2014-12-21 00:00:00 |          9619 | M        | M                | Y           |          3 | $30K - $50K     | Portland      | OR                  | USA       | Food             | Snacks               | Candy                |            4 |      4.44 |\n",
            "|             5 | 2014-12-22 00:00:00 |          1900 | F        | S                | Y           |          3 | $130K - $150K   | Beverly Hills | CA                  | USA       | Drink            | Beverages            | Carbonated Beverages |            4 |     14    |\n",
            "|             6 | 2014-12-22 00:00:00 |          6696 | F        | M                | Y           |          3 | $10K - $30K     | Beverly Hills | CA                  | USA       | Food             | Deli                 | Side Dishes          |            3 |      4.37 |\n",
            "|             7 | 2014-12-23 00:00:00 |          9673 | M        | S                | Y           |          2 | $30K - $50K     | Salem         | OR                  | USA       | Food             | Frozen Foods         | Breakfast Foods      |            4 |     13.78 |\n",
            "|             8 | 2014-12-25 00:00:00 |           354 | F        | M                | Y           |          2 | $150K +         | Yakima        | WA                  | USA       | Food             | Canned Foods         | Canned Soup          |            6 |      7.34 |\n",
            "|             9 | 2014-12-25 00:00:00 |          1293 | M        | M                | Y           |          3 | $10K - $30K     | Bellingham    | WA                  | USA       | Non-Consumable   | Household            | Cleaning Supplies    |            1 |      2.41 |\n",
            "|            10 | 2014-12-25 00:00:00 |          7938 | M        | S                | N           |          1 | $50K - $70K     | San Diego     | CA                  | USA       | Non-Consumable   | Health and Hygiene   | Pain Relievers       |            2 |      8.96 |\n",
            "+---------------+---------------------+---------------+----------+------------------+-------------+------------+-----------------+---------------+---------------------+-----------+------------------+----------------------+----------------------+--------------+-----------+\n"
          ]
        }
      ]
    },
    {
      "cell_type": "code",
      "source": [
        "#Find the data types of the columns\n",
        "cursor.execute(\"PRAGMA table_info(Transactions)\")\n",
        "rows = cursor.fetchall()\n",
        "columns = [description[0] for description in cursor.description]\n",
        "print( tabulate(rows, headers=columns, tablefmt=\"psql\"))\n"
      ],
      "metadata": {
        "colab": {
          "base_uri": "https://localhost:8080/"
        },
        "collapsed": true,
        "id": "KpgIH9s9_fk5",
        "outputId": "f06e9f3c-63dc-447e-e663-5def83a5758b"
      },
      "execution_count": null,
      "outputs": [
        {
          "output_type": "stream",
          "name": "stdout",
          "text": [
            "+-------+--------------------+---------+-----------+--------------+------+\n",
            "|   cid | name               | type    |   notnull | dflt_value   |   pk |\n",
            "|-------+--------------------+---------+-----------+--------------+------|\n",
            "|     0 | Transaction        | INTEGER |         0 |              |    0 |\n",
            "|     1 | Purchase Date      | TEXT    |         0 |              |    0 |\n",
            "|     2 | Customer ID        | INTEGER |         0 |              |    0 |\n",
            "|     3 | Gender             | TEXT    |         0 |              |    0 |\n",
            "|     4 | Marital Status     | TEXT    |         0 |              |    0 |\n",
            "|     5 | Homeowner          | TEXT    |         0 |              |    0 |\n",
            "|     6 | Children           | INTEGER |         0 |              |    0 |\n",
            "|     7 | Annual Income      | TEXT    |         0 |              |    0 |\n",
            "|     8 | City               | TEXT    |         0 |              |    0 |\n",
            "|     9 | State or Province  | TEXT    |         0 |              |    0 |\n",
            "|    10 | Country            | TEXT    |         0 |              |    0 |\n",
            "|    11 | Product Family     | TEXT    |         0 |              |    0 |\n",
            "|    12 | Product Department | TEXT    |         0 |              |    0 |\n",
            "|    13 | Product Category   | TEXT    |         0 |              |    0 |\n",
            "|    14 | Units Sold         | INTEGER |         0 |              |    0 |\n",
            "|    15 | Revenue            | REAL    |         0 |              |    0 |\n",
            "+-------+--------------------+---------+-----------+--------------+------+\n"
          ]
        }
      ]
    },
    {
      "cell_type": "markdown",
      "source": [
        "## Creating the customers table"
      ],
      "metadata": {
        "id": "lLtzpm-2l5du"
      }
    },
    {
      "cell_type": "code",
      "source": [
        "#creating a new  Customers Table based on the columns from the Transaction Table\n",
        "db_path = '/content/transaction_data.db'\n",
        "conn = sqlite3.connect(db_path)\n",
        "cursor = conn.cursor()\n",
        "print(\"Opened database successfully\") #success message\n",
        "\n",
        "existingTable ='Transactions'\n",
        "columnsToPull= ['\"Customer ID\"','Gender','\"Marital Status\"','Homeowner', 'Children']\n",
        "\n",
        "query = f\"\"\"\n",
        "SELECT {', '.join(columnsToPull)}\n",
        "FROM {existingTable}\n",
        "\"\"\"\n",
        "\n",
        "df= pd.read_sql_query(query, conn)\n",
        "\n",
        "# Drop the Customers table if it exists\n",
        "cursor.execute(\"DROP TABLE IF EXISTS Customers\")\n",
        "\n",
        "# Create the Customers table\n",
        "cursor.execute(\"\"\"\n",
        "CREATE TABLE Customers (\n",
        "    \"Customer ID\" INTEGER PRIMARY KEY,\n",
        "    Gender TEXT CHECK(LENGTH(Gender) = 1),\n",
        "    \"Marital Status\" TEXT CHECK(LENGTH(\"Marital Status\") = 1),\n",
        "     Homeowner TEXT CHECK(LENGTH(Homeowner) = 1),\n",
        "    Children INTEGER\n",
        ")\n",
        "\"\"\")\n",
        "\n",
        "# Remove duplicate customer IDs before inserting\n",
        "df_unique = df.drop_duplicates(subset='Customer ID', keep='first')\n",
        "\n",
        "# Insert data from the DataFrame into the Customers table\n",
        "df_unique.to_sql('Customers', conn, if_exists='append', index=False)\n",
        "\n",
        "cursor.execute(\"SELECT * FROM Customers\")\n",
        "rows = cursor.fetchall()\n",
        "columns = [description[0] for description in cursor.description]\n",
        "print(tabulate(rows[:20], headers=columns, tablefmt=\"psql\"))"
      ],
      "metadata": {
        "id": "DU7gfqzAq6ew",
        "colab": {
          "base_uri": "https://localhost:8080/"
        },
        "collapsed": true,
        "outputId": "38482322-8fb4-4a7c-da0c-52abd98e783c"
      },
      "execution_count": null,
      "outputs": [
        {
          "output_type": "stream",
          "name": "stdout",
          "text": [
            "Opened database successfully\n",
            "+---------------+----------+------------------+-------------+------------+\n",
            "|   Customer ID | Gender   | Marital Status   | Homeowner   |   Children |\n",
            "|---------------+----------+------------------+-------------+------------|\n",
            "|             3 | F        | M                | Y           |          1 |\n",
            "|             8 | M        | M                | Y           |          2 |\n",
            "|             9 | M        | M                | Y           |          5 |\n",
            "|            20 | F        | S                | Y           |          2 |\n",
            "|            24 | F        | S                | N           |          0 |\n",
            "|            26 | M        | S                | N           |          0 |\n",
            "|            28 | F        | S                | Y           |          1 |\n",
            "|            30 | F        | S                | Y           |          4 |\n",
            "|            32 | F        | S                | Y           |          2 |\n",
            "|            36 | M        | S                | N           |          1 |\n",
            "|            39 | F        | M                | Y           |          4 |\n",
            "|            41 | M        | S                | N           |          1 |\n",
            "|            42 | F        | M                | Y           |          3 |\n",
            "|            43 | F        | S                | N           |          2 |\n",
            "|            44 | M        | S                | Y           |          1 |\n",
            "|            45 | M        | S                | Y           |          5 |\n",
            "|            47 | M        | M                | N           |          0 |\n",
            "|            48 | M        | M                | N           |          0 |\n",
            "|            49 | F        | S                | N           |          4 |\n",
            "|            52 | F        | S                | N           |          3 |\n",
            "+---------------+----------+------------------+-------------+------------+\n"
          ]
        }
      ]
    },
    {
      "cell_type": "code",
      "source": [
        "#print first 10 rows from the table with table header using pandas\n",
        "print(tabulate(rows[:10], headers=columns, tablefmt=\"psql\"))"
      ],
      "metadata": {
        "colab": {
          "base_uri": "https://localhost:8080/"
        },
        "id": "ewZWuUnSThsL",
        "outputId": "ea472d68-527e-473c-b7a5-ab361a176a82",
        "collapsed": true
      },
      "execution_count": null,
      "outputs": [
        {
          "output_type": "stream",
          "name": "stdout",
          "text": [
            "+---------------+----------+------------------+-------------+------------+\n",
            "|   Customer ID | Gender   | Marital Status   | Homeowner   |   Children |\n",
            "|---------------+----------+------------------+-------------+------------|\n",
            "|             3 | F        | M                | Y           |          1 |\n",
            "|             8 | M        | M                | Y           |          2 |\n",
            "|             9 | M        | M                | Y           |          5 |\n",
            "|            20 | F        | S                | Y           |          2 |\n",
            "|            24 | F        | S                | N           |          0 |\n",
            "|            26 | M        | S                | N           |          0 |\n",
            "|            28 | F        | S                | Y           |          1 |\n",
            "|            30 | F        | S                | Y           |          4 |\n",
            "|            32 | F        | S                | Y           |          2 |\n",
            "|            36 | M        | S                | N           |          1 |\n",
            "+---------------+----------+------------------+-------------+------------+\n"
          ]
        }
      ]
    },
    {
      "cell_type": "code",
      "source": [
        "#Find the data types of the columns\n",
        "cursor.execute(\"PRAGMA table_info(Customers)\")\n",
        "conn.commit()  # Commit the changes to the database\n",
        "\n",
        "rows = cursor.fetchall()\n",
        "columns = [description[0] for description in cursor.description]\n",
        "print( tabulate(rows, headers=columns, tablefmt=\"psql\"))\n",
        "\n",
        "conn.close()"
      ],
      "metadata": {
        "colab": {
          "base_uri": "https://localhost:8080/"
        },
        "id": "ijk40_zJbuAa",
        "outputId": "d2d2b3a0-93b9-4d7e-8472-79f9522a4760"
      },
      "execution_count": null,
      "outputs": [
        {
          "output_type": "stream",
          "name": "stdout",
          "text": [
            "+-------+----------------+---------+-----------+--------------+------+\n",
            "|   cid | name           | type    |   notnull | dflt_value   |   pk |\n",
            "|-------+----------------+---------+-----------+--------------+------|\n",
            "|     0 | Customer ID    | INTEGER |         0 |              |    1 |\n",
            "|     1 | Gender         | TEXT    |         0 |              |    0 |\n",
            "|     2 | Marital Status | TEXT    |         0 |              |    0 |\n",
            "|     3 | Homeowner      | TEXT    |         0 |              |    0 |\n",
            "|     4 | Children       | INTEGER |         0 |              |    0 |\n",
            "+-------+----------------+---------+-----------+--------------+------+\n"
          ]
        }
      ]
    },
    {
      "cell_type": "markdown",
      "source": [
        "## Creating customers salary table"
      ],
      "metadata": {
        "id": "QF0d5Hz0uMPH"
      }
    },
    {
      "cell_type": "code",
      "source": [
        "db_path = '/content/transaction_data.db'\n",
        "conn = sqlite3.connect(db_path)\n",
        "cursor = conn.cursor()\n",
        "print(\"Opened database successfully\") #success message\n",
        "\n",
        "existingTable = 'Transactions'\n",
        "columnsToPull = ['\"Customer ID\"','\"Annual Income\"','City','\"State Or Province\"']\n",
        "\n",
        "query=f\"\"\"\n",
        "SELECT {','.join(columnsToPull)}\n",
        "FROM {existingTable}\n",
        "\"\"\"\n",
        "df = pd.read_sql_query(query, conn)\n",
        "\n",
        "cursor.execute(\"DROP TABLE IF EXISTS 'Customer Salary'\")\n",
        "\n",
        "cursor.execute(\"\"\"\n",
        "CREATE TABLE \"Customer Salary\" (\n",
        "    \"Customer ID\" INTEGER PRIMARY KEY,\n",
        "    \"Annual Income\" INTEGER,\n",
        "    City Text,\n",
        "    \"State Or Province\" Text\n",
        ")\n",
        "\"\"\")\n",
        "\n",
        "# Make sure df_unique only has columns that match the table\n",
        "df_unique = df.drop_duplicates(subset='Customer ID', keep='first')\n",
        "df_unique.to_sql('Customer Salary', conn, if_exists='append', index=False)\n",
        "\n",
        "cursor.execute(\"SELECT * FROM 'Customer Salary'\")\n",
        "rows = cursor.fetchall()\n",
        "columns = [description[0] for description in cursor.description]\n",
        "print(tabulate(rows[:10], headers=columns, tablefmt=\"psql\"))\n",
        "\n"
      ],
      "metadata": {
        "colab": {
          "base_uri": "https://localhost:8080/"
        },
        "id": "v0nutZxXCED1",
        "outputId": "21a3b705-e55a-4c10-fa91-9f81e8902a16"
      },
      "execution_count": null,
      "outputs": [
        {
          "output_type": "stream",
          "name": "stdout",
          "text": [
            "Opened database successfully\n",
            "+---------------+-----------------+---------------+---------------------+\n",
            "|   Customer ID | Annual Income   | City          | State Or Province   |\n",
            "|---------------+-----------------+---------------+---------------------|\n",
            "|             3 | $50K - $70K     | Seattle       | WA                  |\n",
            "|             8 | $50K - $70K     | San Andres    | DF                  |\n",
            "|             9 | $10K - $30K     | Vancouver     | BC                  |\n",
            "|            20 | $10K - $30K     | San Diego     | CA                  |\n",
            "|            24 | $30K - $50K     | San Andres    | DF                  |\n",
            "|            26 | $10K - $30K     | Beverly Hills | CA                  |\n",
            "|            28 | $10K - $30K     | Seattle       | WA                  |\n",
            "|            30 | $50K - $70K     | Portland      | OR                  |\n",
            "|            32 | $10K - $30K     | Vancouver     | BC                  |\n",
            "|            36 | $10K - $30K     | Portland      | OR                  |\n",
            "+---------------+-----------------+---------------+---------------------+\n"
          ]
        }
      ]
    },
    {
      "cell_type": "code",
      "source": [
        "#Find the data types of the columns\n",
        "cursor.execute(\"PRAGMA table_info('Customer Salary')\")\n",
        "rows = cursor.fetchall()\n",
        "columns = [description[0] for description in cursor.description]\n",
        "print( tabulate(rows, headers=columns, tablefmt=\"psql\"))\n"
      ],
      "metadata": {
        "colab": {
          "base_uri": "https://localhost:8080/"
        },
        "id": "nUcAnyLEb0Wc",
        "outputId": "c1aa15e3-e0df-468f-ff51-267d9fa79095"
      },
      "execution_count": null,
      "outputs": [
        {
          "output_type": "stream",
          "name": "stdout",
          "text": [
            "+-------+-------------------+---------+-----------+--------------+------+\n",
            "|   cid | name              | type    |   notnull | dflt_value   |   pk |\n",
            "|-------+-------------------+---------+-----------+--------------+------|\n",
            "|     0 | Customer ID       | INTEGER |         0 |              |    1 |\n",
            "|     1 | Annual Income     | INTEGER |         0 |              |    0 |\n",
            "|     2 | City              | TEXT    |         0 |              |    0 |\n",
            "|     3 | State Or Province | TEXT    |         0 |              |    0 |\n",
            "+-------+-------------------+---------+-----------+--------------+------+\n"
          ]
        }
      ]
    },
    {
      "cell_type": "code",
      "source": [
        "conn.close()"
      ],
      "metadata": {
        "id": "IxWzzOadyOZt"
      },
      "execution_count": null,
      "outputs": []
    },
    {
      "cell_type": "markdown",
      "source": [
        "## Product Table"
      ],
      "metadata": {
        "id": "fApyshOqyHgC"
      }
    },
    {
      "cell_type": "code",
      "source": [
        "#setting up DB connection\n",
        "db_path = 'transaction_data.db'\n",
        "conn = sqlite3.connect(db_path)\n",
        "cursor = conn.cursor()\n",
        "print(\"Opened database successfully\") #success message\n",
        "\n",
        "existingTable= 'Transactions'\n",
        "columnsToPull = ['\"Product Family\"', '\"Product Department\"', '\"Product Category\"']\n",
        "\n",
        "\n",
        "\n",
        "query = f\"\"\"\n",
        "SELECT {','.join(columnsToPull)}\n",
        "FROM {existingTable}\n",
        "\"\"\"\n",
        "df= pd.read_sql_query(query,conn)\n",
        "\n",
        "# Drop the Customers table if it exists\n",
        "cursor.execute(\"DROP TABLE IF EXISTS Product\")\n",
        "\n",
        "# Create the Customers table\n",
        "cursor.execute(\"\"\"\n",
        "CREATE TABLE Product (\n",
        "    'Product Family' TEXT PRIMARY KEY,\n",
        "    'Product Department' TEXT,\n",
        "    'Product Category' TEXT\n",
        ")\n",
        "\"\"\")\n",
        "\n",
        "# Remove duplicate customer IDs before inserting\n",
        "df_unique = df.drop_duplicates(subset='Product Family', keep='first')\n",
        "\n",
        "# Insert data from the DataFrame into the Customers table\n",
        "df_unique.to_sql('Product', conn, if_exists='append', index=False)\n",
        "\n",
        "cursor.execute(\"SELECT * FROM Product\")\n",
        "rows = cursor.fetchall()\n",
        "columns = [description[0] for description in cursor.description]\n",
        "print(tabulate(rows[:10], headers=columns, tablefmt=\"psql\"))\n"
      ],
      "metadata": {
        "id": "SPe0GGSByjD_",
        "colab": {
          "base_uri": "https://localhost:8080/"
        },
        "outputId": "2e32877e-fe7c-4ffc-c151-9389fffcd117"
      },
      "execution_count": null,
      "outputs": [
        {
          "output_type": "stream",
          "name": "stdout",
          "text": [
            "Opened database successfully\n",
            "+------------------+----------------------+----------------------+\n",
            "| Product Family   | Product Department   | Product Category     |\n",
            "|------------------+----------------------+----------------------|\n",
            "| Food             | Snack Foods          | Snack Foods          |\n",
            "| Drink            | Beverages            | Carbonated Beverages |\n",
            "| Non-Consumable   | Household            | Cleaning Supplies    |\n",
            "+------------------+----------------------+----------------------+\n"
          ]
        }
      ]
    },
    {
      "cell_type": "code",
      "source": [
        "#Find the data types of the columns\n",
        "cursor.execute(\"PRAGMA table_info(Product)\")\n",
        "rows = cursor.fetchall()\n",
        "columns = [description[0] for description in cursor.description]\n",
        "print( tabulate(rows, headers=columns, tablefmt=\"psql\"))"
      ],
      "metadata": {
        "colab": {
          "base_uri": "https://localhost:8080/"
        },
        "id": "6EzVVP06b6Jk",
        "outputId": "296aae0a-6a1a-49e5-f1c7-a12685e93a62"
      },
      "execution_count": null,
      "outputs": [
        {
          "output_type": "stream",
          "name": "stdout",
          "text": [
            "+-------+--------------------+--------+-----------+--------------+------+\n",
            "|   cid | name               | type   |   notnull | dflt_value   |   pk |\n",
            "|-------+--------------------+--------+-----------+--------------+------|\n",
            "|     0 | Product Family     | TEXT   |         0 |              |    1 |\n",
            "|     1 | Product Department | TEXT   |         0 |              |    0 |\n",
            "|     2 | Product Category   | TEXT   |         0 |              |    0 |\n",
            "+-------+--------------------+--------+-----------+--------------+------+\n"
          ]
        }
      ]
    },
    {
      "cell_type": "code",
      "source": [
        "conn.close()"
      ],
      "metadata": {
        "id": "OTd7yiU04QEA"
      },
      "execution_count": null,
      "outputs": []
    },
    {
      "cell_type": "markdown",
      "source": [
        "## Transaction table"
      ],
      "metadata": {
        "id": "H2niDhQR4JaL"
      }
    },
    {
      "cell_type": "code",
      "source": [
        "db_path = '/content/transaction_data.db'\n",
        "conn = sqlite3.connect(db_path)\n",
        "cursor = conn.cursor()\n",
        "print(\"Opened database successfully\") #success message\n",
        "\n",
        "existingTable= 'Transactions'\n",
        "columnsToPull= ['\"Customer ID\"','\"Product Family\"','\"Units Sold\"','Revenue', '\"Purchase Date\"']\n",
        "\n",
        "query = f\"\"\"\n",
        "SELECT {','.join(columnsToPull)}\n",
        "FROM {existingTable}\n",
        "\"\"\"\n",
        "df = pd.read_sql_query(query, conn)\n",
        "\n",
        "\n",
        "cursor.execute(\"DROP TABLE IF EXISTS 'Customer Transactions'\")\n",
        "\n",
        "cursor.execute(\"\"\"\n",
        "CREATE TABLE \"Customer Transactions\" (\n",
        "    \"Customer ID\" INTEGER,\n",
        "    \"Product Family\" Text,\n",
        "    \"Units Sold\" INTEGER,\n",
        "    Revenue INTEGER,\n",
        "    \"Purchase Date\" Date,\n",
        "    FOREIGN KEY(\"Customer ID\") REFERENCES Transactions(\"Customer ID\"),\n",
        "    FOREIGN KEY(\"Product Family\") REFERENCES Product(\"Product Family\")\n",
        ")\n",
        "\"\"\")\n",
        "\n",
        "#print the first 10 lines from the table\n",
        "df_unique = df.drop_duplicates(subset='Customer ID', keep='first')\n",
        "df_unique.to_sql('Customer Transactions', conn, if_exists='append', index=False)\n",
        "\n",
        "cursor.execute(\"SELECT * FROM 'Customer Transactions'\")\n",
        "rows = cursor.fetchall()\n",
        "columns = [description[0] for description in cursor.description]\n",
        "print(tabulate(rows[:10], headers=columns, tablefmt=\"psql\"))\n",
        "\n"
      ],
      "metadata": {
        "id": "l8p-YxEq5MRc",
        "colab": {
          "base_uri": "https://localhost:8080/"
        },
        "outputId": "a54b874b-6e16-4c30-fd61-d7267d46cc15"
      },
      "execution_count": null,
      "outputs": [
        {
          "output_type": "stream",
          "name": "stdout",
          "text": [
            "Opened database successfully\n",
            "+---------------+------------------+--------------+-----------+---------------------+\n",
            "|   Customer ID | Product Family   |   Units Sold |   Revenue | Purchase Date       |\n",
            "|---------------+------------------+--------------+-----------+---------------------|\n",
            "|          7223 | Food             |            5 |     27.38 | 2014-12-18 00:00:00 |\n",
            "|          7841 | Food             |            5 |     14.9  | 2014-12-20 00:00:00 |\n",
            "|          8374 | Food             |            3 |      5.52 | 2014-12-21 00:00:00 |\n",
            "|          9619 | Food             |            4 |      4.44 | 2014-12-21 00:00:00 |\n",
            "|          1900 | Drink            |            4 |     14    | 2014-12-22 00:00:00 |\n",
            "|          6696 | Food             |            3 |      4.37 | 2014-12-22 00:00:00 |\n",
            "|          9673 | Food             |            4 |     13.78 | 2014-12-23 00:00:00 |\n",
            "|           354 | Food             |            6 |      7.34 | 2014-12-25 00:00:00 |\n",
            "|          1293 | Non-Consumable   |            1 |      2.41 | 2014-12-25 00:00:00 |\n",
            "|          7938 | Non-Consumable   |            2 |      8.96 | 2014-12-25 00:00:00 |\n",
            "+---------------+------------------+--------------+-----------+---------------------+\n"
          ]
        }
      ]
    },
    {
      "cell_type": "code",
      "source": [
        "#Find the data types of the columns\n",
        "cursor.execute(\"PRAGMA table_info('Customer Transactions')\")\n",
        "rows = cursor.fetchall()\n",
        "columns = [description[0] for description in cursor.description]\n",
        "print( tabulate(rows, headers=columns, tablefmt=\"psql\"))"
      ],
      "metadata": {
        "colab": {
          "base_uri": "https://localhost:8080/"
        },
        "id": "0y2yJ9xTHYuR",
        "outputId": "00224ad4-12d3-47ea-d2ac-a593cf873e09"
      },
      "execution_count": null,
      "outputs": [
        {
          "output_type": "stream",
          "name": "stdout",
          "text": [
            "+-------+----------------+---------+-----------+--------------+------+\n",
            "|   cid | name           | type    |   notnull | dflt_value   |   pk |\n",
            "|-------+----------------+---------+-----------+--------------+------|\n",
            "|     0 | Customer ID    | INTEGER |         0 |              |    0 |\n",
            "|     1 | Product Family | TEXT    |         0 |              |    0 |\n",
            "|     2 | Units Sold     | INTEGER |         0 |              |    0 |\n",
            "|     3 | Revenue        | INTEGER |         0 |              |    0 |\n",
            "|     4 | Purchase Date  | Date    |         0 |              |    0 |\n",
            "+-------+----------------+---------+-----------+--------------+------+\n"
          ]
        }
      ]
    },
    {
      "cell_type": "code",
      "source": [
        "conn.close()"
      ],
      "metadata": {
        "id": "q_iyhxsNE0P2"
      },
      "execution_count": null,
      "outputs": []
    },
    {
      "cell_type": "markdown",
      "source": [
        "## Bar chart to show salary\n"
      ],
      "metadata": {
        "id": "iJ_vG_CGo-4p"
      }
    },
    {
      "cell_type": "code",
      "source": [
        "conn= sqlite3.connect('/content/transaction_data.db')\n",
        "cursor = conn.cursor()\n",
        "\n",
        "query = \"\"\"\n",
        "SELECT Customers.'Marital Status', 'Customer Salary'.'Annual Income'\n",
        "FROM  Customers\n",
        "JOIN  'Customer Salary' ON Customers.'Customer ID' = 'Customer Salary'.'Customer ID'\n",
        "\"\"\"\n",
        "\n",
        "# Execute the query\n",
        "cursor.execute(query)\n",
        "results = cursor.fetchall()\n",
        "\n",
        "# create a bar chart\n",
        "import matplotlib.pyplot as plt\n",
        "fig, ax = plt.subplots()\n",
        "ax.bar([row[0] for row in results], [row[1] for row in results])\n",
        "\n",
        "# Set the x-axis labels\n",
        "x_labels = [row[0] for row in results]\n",
        "ax.set_xticks(range(len(x_labels)))\n",
        "ax.set_xticklabels(x_labels, rotation=45, ha='right')\n",
        "\n",
        "# Set the chart title and axis labels\n",
        "ax.set_title('Salary by Marital Status')\n",
        "ax.set_xlabel('Marital Status')\n",
        "ax.set_ylabel('Annual Income')\n",
        "\n",
        "# Show the chart\n",
        "plt.show()"
      ],
      "metadata": {
        "id": "Dev9FaVgpFQv",
        "colab": {
          "base_uri": "https://localhost:8080/",
          "height": 476
        },
        "collapsed": true,
        "outputId": "bc255b5e-158e-46ea-adfd-9e716f763822"
      },
      "execution_count": null,
      "outputs": [
        {
          "output_type": "display_data",
          "data": {
            "text/plain": [
              "<Figure size 640x480 with 1 Axes>"
            ],
            "image/png": "[encoded data removed]"
          },
          "metadata": {}
        }
      ]
    }
  ]
}